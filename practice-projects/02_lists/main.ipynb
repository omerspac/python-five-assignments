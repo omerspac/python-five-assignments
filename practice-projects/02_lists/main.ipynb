{
 "cells": [
  {
   "cell_type": "code",
   "execution_count": 1,
   "metadata": {},
   "outputs": [
    {
     "name": "stdout",
     "output_type": "stream",
     "text": [
      "01_add_many_numbers\n",
      "21\n"
     ]
    }
   ],
   "source": [
    "print(\"01_add_many_numbers\")\n",
    "\n",
    "def add_numbers(numbers)->int:\n",
    "  num:int = 0\n",
    "  for n in numbers:\n",
    "    num += n\n",
    "\n",
    "  return num\n",
    "\n",
    "def main():\n",
    "  numbers: list[int] = [1,2,3,4,5,6]\n",
    "  sum:int = add_numbers(numbers)\n",
    "  print(sum)\n",
    "\n",
    "if __name__ == \"__main__\":\n",
    "    main()"
   ]
  },
  {
   "cell_type": "code",
   "execution_count": 2,
   "metadata": {},
   "outputs": [
    {
     "name": "stdout",
     "output_type": "stream",
     "text": [
      "02_double_list\n",
      "[2, 4, 6, 8, 10]\n"
     ]
    }
   ],
   "source": [
    "print(\"02_double_list\")\n",
    "\n",
    "def main():\n",
    "  numbers: list[int] =[1,2,3,4,5]\n",
    "  for i in range(len(numbers)):\n",
    "    index = numbers[i]\n",
    "    numbers[i] = index * 2\n",
    "  print(numbers)\n",
    "\n",
    "if __name__ == \"__main__\":\n",
    "  main()"
   ]
  },
  {
   "cell_type": "code",
   "execution_count": 4,
   "metadata": {},
   "outputs": [
    {
     "name": "stdout",
     "output_type": "stream",
     "text": [
      "04_flowing_with_data_structures\n",
      "List before: []\n",
      "List after: ['omer', 'omer', 'omer']\n"
     ]
    }
   ],
   "source": [
    "print(\"04_flowing_with_data_structures\")\n",
    "\n",
    "def add_copies(my_list,data):\n",
    "  for i in range(3):\n",
    "    my_list.append(data)\n",
    "\n",
    "def main():\n",
    "  message = input(\"Enter a message to copy: \")\n",
    "  my_list = []\n",
    "  print(\"List before:\", my_list)\n",
    "  add_copies(my_list, message)\n",
    "  print(\"List after:\", my_list)\n",
    "\n",
    "if __name__ == \"__main__\":\n",
    "  main()\n",
    "     "
   ]
  },
  {
   "cell_type": "code",
   "execution_count": 9,
   "metadata": {},
   "outputs": [
    {
     "name": "stdout",
     "output_type": "stream",
     "text": [
      "05_get_first_element\n",
      "abc\n"
     ]
    }
   ],
   "source": [
    "\n",
    "print(\"05_get_first_element\")\n",
    "\n",
    "def get_first_element(lst):\n",
    "  print(lst[0])\n",
    "\n",
    "def get_lst():\n",
    "  lst = []\n",
    "  element:str = input(\"Enter an element to add to the list: \")\n",
    "  while element != \"\":\n",
    "    lst.append(element)\n",
    "    return lst\n",
    "\n",
    "def main():\n",
    "  lst = get_lst()\n",
    "  get_first_element(lst)\n",
    "\n",
    "if __name__ == \"__main__\":\n",
    "  main()"
   ]
  },
  {
   "cell_type": "code",
   "execution_count": 10,
   "metadata": {},
   "outputs": [
    {
     "name": "stdout",
     "output_type": "stream",
     "text": [
      "06_get_last_element\n",
      "5\n"
     ]
    }
   ],
   "source": [
    "print(\"06_get_last_element\")\n",
    "\n",
    "def get_last_element(lst):\n",
    "  print(lst[-1])\n",
    "\n",
    "def main():\n",
    "  lst = [1,2,3,4,5]\n",
    "  get_last_element(lst)\n",
    "\n",
    "if __name__ == \"__main__\":\n",
    "  main()"
   ]
  },
  {
   "cell_type": "code",
   "execution_count": 11,
   "metadata": {},
   "outputs": [
    {
     "name": "stdout",
     "output_type": "stream",
     "text": [
      "07_get_list\n",
      "Here is the list:  ['40', '30', '20', '10']\n"
     ]
    }
   ],
   "source": [
    "print(\"07_get_list\")\n",
    "\n",
    "def main():\n",
    "  lst = []\n",
    "  val = input(\"Enter a value to add to the list: \")\n",
    "  while val:\n",
    "    lst.append(val)\n",
    "    val = input(\"Enter a value to add to the list: \")\n",
    "  print(\"Here is the list: \", lst)\n",
    "\n",
    "if __name__ == \"__main__\":\n",
    "  main()"
   ]
  },
  {
   "cell_type": "code",
   "execution_count": 14,
   "metadata": {},
   "outputs": [
    {
     "name": "stdout",
     "output_type": "stream",
     "text": [
      "08_shorten\n",
      "end\n"
     ]
    }
   ],
   "source": [
    "print(\"08_shorten\")\n",
    "\n",
    "MAX_LENGTH:int = 3\n",
    "def shorten(lst):\n",
    "  while len(lst) > MAX_LENGTH:\n",
    "    last_element = lst.pop()\n",
    "    print(last_element)\n",
    "\n",
    "def get_lst():\n",
    "  lst = []\n",
    "  element = input(\"Enter an element to add to the list: \")\n",
    "  while element != \"\":\n",
    "    lst.append(element)\n",
    "    element = input(\"Enter an element to add to the list: \")\n",
    "  return lst\n",
    "\n",
    "def main():\n",
    "  lst = get_lst()\n",
    "  shorten(lst)\n",
    "\n",
    "if __name__ == \"__main__\":\n",
    "  main()"
   ]
  }
 ],
 "metadata": {
  "kernelspec": {
   "display_name": "Python 3",
   "language": "python",
   "name": "python3"
  },
  "language_info": {
   "codemirror_mode": {
    "name": "ipython",
    "version": 3
   },
   "file_extension": ".py",
   "mimetype": "text/x-python",
   "name": "python",
   "nbconvert_exporter": "python",
   "pygments_lexer": "ipython3",
   "version": "3.13.3"
  }
 },
 "nbformat": 4,
 "nbformat_minor": 2
}
