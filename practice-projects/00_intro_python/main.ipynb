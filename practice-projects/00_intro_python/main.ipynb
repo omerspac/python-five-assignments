{
 "cells": [
  {
   "cell_type": "code",
   "execution_count": 2,
   "metadata": {},
   "outputs": [
    {
     "name": "stdout",
     "output_type": "stream",
     "text": [
      "01_add_two_numbers\n",
      "The total sum of 1 and 3 is 4\n"
     ]
    }
   ],
   "source": [
    "print(\"01_add_two_numbers\")\n",
    "\n",
    "def add():\n",
    "  first_number = int(input(\"Enter your first number.\"))\n",
    "  second_number = int(input(\"Enter your second number.\"))\n",
    "  total = int(first_number + second_number)\n",
    "  print(f'The total sum of {first_number} and {second_number} is {total}')\n",
    "\n",
    "if __name__ == \"__main__\":\n",
    "  add()"
   ]
  },
  {
   "cell_type": "code",
   "execution_count": 3,
   "metadata": {},
   "outputs": [
    {
     "name": "stdout",
     "output_type": "stream",
     "text": [
      "02_agreement_bot\n",
      "My favorite animal is also cat!\n"
     ]
    }
   ],
   "source": [
    "print(\"02_agreement_bot\")\n",
    "\n",
    "def bot():\n",
    "  animal = str(input(\"What's your favorite animal? \"))\n",
    "  print(f'My favorite animal is also {animal}!')\n",
    "\n",
    "if __name__ == \"__main__\":\n",
    "  bot()"
   ]
  },
  {
   "cell_type": "code",
   "execution_count": 4,
   "metadata": {},
   "outputs": [
    {
     "name": "stdout",
     "output_type": "stream",
     "text": [
      "03_fahrenheit_to_celsius\n",
      "Tempereture 102.0 F = 38.888888888888886 C\n"
     ]
    }
   ],
   "source": [
    "print(\"03_fahrenheit_to_celsius\")\n",
    "\n",
    "def temp():\n",
    "  fahrenheit_degree = float(input(\"Enter in Fahrenheit: \"))\n",
    "  celsius_degree = (fahrenheit_degree - 32) * 5.0/9.0\n",
    "  print(f'Tempereture {fahrenheit_degree} F = {celsius_degree} C')\n",
    "\n",
    "if __name__ == \"__main__\":\n",
    "  temp()"
   ]
  },
  {
   "cell_type": "code",
   "execution_count": 5,
   "metadata": {},
   "outputs": [
    {
     "name": "stdout",
     "output_type": "stream",
     "text": [
      "04_how_old_are_they\n",
      "Omer is 21\n",
      "Beth is 27\n",
      "Chen is 47\n",
      "Drew is 68\n",
      "Ethan is 47\n"
     ]
    }
   ],
   "source": [
    "print(\"04_how_old_are_they\")\n",
    "\n",
    "def add_ages():\n",
    "  omer:int = 21\n",
    "  beth:int = omer + 6\n",
    "  chen:int = beth + 20\n",
    "  drew:int = chen + omer\n",
    "  ethan:int = chen\n",
    "\n",
    "  print(\"Omer is \" + str(omer))\n",
    "  print(\"Beth is \" + str(beth))\n",
    "  print(\"Chen is \" + str(chen))\n",
    "  print(\"Drew is \" + str(drew))\n",
    "  print(\"Ethan is \" + str(ethan))\n",
    "\n",
    "\n",
    "if __name__ == \"__main__\":\n",
    "  add_ages()"
   ]
  },
  {
   "cell_type": "code",
   "execution_count": 6,
   "metadata": {},
   "outputs": [
    {
     "name": "stdout",
     "output_type": "stream",
     "text": [
      "05_triangle_perimeter.\n",
      "This code is about perimeter of triangle.\n",
      "The perimeter of the triangle is 11.0\n"
     ]
    }
   ],
   "source": [
    "print(\"05_triangle_perimeter.\")\n",
    "\n",
    "def triangle():\n",
    "  print(\"This code is about perimeter of triangle.\")\n",
    "  side1: float = float(input(\"What is the length of side 1? \"))\n",
    "  side2: float = float(input(\"What is the length of side 2? \"))\n",
    "  side3: float = float(input(\"What is the length of side 3? \"))\n",
    "  total:float = float(side1 + side2 + side3)\n",
    "  print(f'The perimeter of the triangle is {total}')\n",
    "\n",
    "if __name__ == \"__main__\":\n",
    "  triangle()"
   ]
  },
  {
   "cell_type": "code",
   "execution_count": 7,
   "metadata": {},
   "outputs": [
    {
     "name": "stdout",
     "output_type": "stream",
     "text": [
      "06_square_number\n",
      "The square of 3 is 9\n"
     ]
    }
   ],
   "source": [
    "print(\"06_square_number\")\n",
    "\n",
    "def square():\n",
    "  num1:int = int(input(\"Type a number to see its square: \"))\n",
    "  print(f'The square of {num1} is {num1 ** 2}')\n",
    "\n",
    "if __name__ == \"__main__\":\n",
    "  square()"
   ]
  }
 ],
 "metadata": {
  "kernelspec": {
   "display_name": "Python 3",
   "language": "python",
   "name": "python3"
  },
  "language_info": {
   "codemirror_mode": {
    "name": "ipython",
    "version": 3
   },
   "file_extension": ".py",
   "mimetype": "text/x-python",
   "name": "python",
   "nbconvert_exporter": "python",
   "pygments_lexer": "ipython3",
   "version": "3.13.3"
  }
 },
 "nbformat": 4,
 "nbformat_minor": 2
}
