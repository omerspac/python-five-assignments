{
 "cells": [
  {
   "cell_type": "code",
   "execution_count": 2,
   "metadata": {},
   "outputs": [
    {
     "name": "stdout",
     "output_type": "stream",
     "text": [
      "00_averages\n",
      "Enter numbers separated by commas:\n",
      "✅ Average of the given numbers: 5.50\n"
     ]
    }
   ],
   "source": [
    "print(\"00_averages\")\n",
    "def calculate_average(numbers):\n",
    "    if not numbers:\n",
    "        return 0\n",
    "    return sum(numbers) / len(numbers)\n",
    "\n",
    "def main():\n",
    "    print(\"Enter numbers separated by commas:\")\n",
    "    user_input = input(\"→ \")\n",
    "\n",
    "    # Convert string input to list of numbers\n",
    "    try:\n",
    "        number_list = [float(num.strip()) for num in user_input.split(\",\")]\n",
    "    except ValueError:\n",
    "        print(\"❌ Invalid input! Please enter valid numbers separated by commas.\")\n",
    "        return\n",
    "\n",
    "    avg = calculate_average(number_list)\n",
    "    print(f\"✅ Average of the given numbers: {avg:.2f}\")\n",
    "\n",
    "if __name__ == \"__main__\":\n",
    "    main()"
   ]
  },
  {
   "cell_type": "code",
   "execution_count": 3,
   "metadata": {},
   "outputs": [
    {
     "name": "stdout",
     "output_type": "stream",
     "text": [
      "01_chaotic_countin\n",
      "Enter start and end numbers for chaotic counting.\n",
      "Chaotic Counting Begins!\n",
      "1\n",
      "3\n",
      "2\n",
      "4\n",
      "6\n",
      "5\n",
      "7\n",
      "🎉 Done with chaotic counting!\n"
     ]
    }
   ],
   "source": [
    "import random\n",
    "import time\n",
    "\n",
    "print(\"01_chaotic_countin\")\n",
    "def chaotic_counting(start, end, delay=0.5):\n",
    "    numbers = list(range(start, end + 1))\n",
    "    random.shuffle(numbers)\n",
    "\n",
    "    print(\"Chaotic Counting Begins!\")\n",
    "    for number in numbers:\n",
    "        print(number)\n",
    "        time.sleep(delay)\n",
    "    print(\"🎉 Done with chaotic counting!\")\n",
    "\n",
    "def main():\n",
    "    print(\"Enter start and end numbers for chaotic counting.\")\n",
    "    try:\n",
    "        start = int(input(\"Start → \"))\n",
    "        end = int(input(\"End → \"))\n",
    "\n",
    "        if start > end:\n",
    "            print(\"❌ Start should be less than or equal to end!\")\n",
    "            return\n",
    "\n",
    "        chaotic_counting(start, end)\n",
    "    except ValueError:\n",
    "        print(\"❌ Invalid input! Please enter integers only.\")\n",
    "\n",
    "if __name__ == \"__main__\":\n",
    "    main()"
   ]
  },
  {
   "cell_type": "code",
   "execution_count": 5,
   "metadata": {},
   "outputs": [
    {
     "name": "stdout",
     "output_type": "stream",
     "text": [
      "02_count_even\n",
      "Enter numbers separated by commas:\n",
      "✅ Total even numbers: 5\n",
      "Even numbers: [2, 4, 6, 8, 10]\n"
     ]
    }
   ],
   "source": [
    "print(\"02_count_even\")\n",
    "def count_even_numbers(numbers):\n",
    "    even_numbers = [num for num in numbers if num % 2 == 0]\n",
    "    return len(even_numbers), even_numbers\n",
    "\n",
    "def main():\n",
    "    print(\"Enter numbers separated by commas:\")\n",
    "    user_input = input(\"→ \")\n",
    "\n",
    "    try:\n",
    "        number_list = [int(num.strip()) for num in user_input.split(\",\")]\n",
    "    except ValueError:\n",
    "        print(\"❌ Invalid input! Please enter integers only.\")\n",
    "        return\n",
    "\n",
    "    count, evens = count_even_numbers(number_list)\n",
    "    print(f\"✅ Total even numbers: {count}\")\n",
    "    print(f\"Even numbers: {evens}\")\n",
    "\n",
    "if __name__ == \"__main__\":\n",
    "    main()"
   ]
  },
  {
   "cell_type": "code",
   "execution_count": 6,
   "metadata": {},
   "outputs": [
    {
     "name": "stdout",
     "output_type": "stream",
     "text": [
      "04_double\n",
      "Enter numbers separated by commas to double them:\n",
      "✅ Doubled numbers: [4, 10, 12, 14]\n"
     ]
    }
   ],
   "source": [
    "print(\"04_double\")\n",
    "\n",
    "def double_numbers(numbers):\n",
    "    return [num * 2 for num in numbers]\n",
    "\n",
    "def main():\n",
    "    print(\"Enter numbers separated by commas to double them:\")\n",
    "    user_input = input(\"→ \")\n",
    "\n",
    "    try:\n",
    "        number_list = [int(num.strip()) for num in user_input.split(\",\")]\n",
    "    except ValueError:\n",
    "        print(\"❌ Invalid input! Please enter integers only.\")\n",
    "        return\n",
    "\n",
    "    doubled = double_numbers(number_list)\n",
    "    print(f\"✅ Doubled numbers: {doubled}\")\n",
    "\n",
    "if __name__ == \"__main__\":\n",
    "    main()"
   ]
  },
  {
   "cell_type": "code",
   "execution_count": 7,
   "metadata": {},
   "outputs": [
    {
     "name": "stdout",
     "output_type": "stream",
     "text": [
      "05_get_name\n",
      "🎉 Hello, Muhammad Omer! Nice to meet you!\n"
     ]
    }
   ],
   "source": [
    "print(\"05_get_name\")\n",
    "\n",
    "def get_name():\n",
    "    name = input(\"👋 What's your name? → \").strip()\n",
    "\n",
    "    if not name:\n",
    "        print(\"⚠️ You didn't enter a name!\")\n",
    "    else:\n",
    "        print(f\"🎉 Hello, {name}! Nice to meet you!\")\n",
    "\n",
    "def main():\n",
    "    get_name()\n",
    "\n",
    "if __name__ == \"__main__\":\n",
    "    main()"
   ]
  },
  {
   "cell_type": "code",
   "execution_count": 8,
   "metadata": {},
   "outputs": [
    {
     "name": "stdout",
     "output_type": "stream",
     "text": [
      "06_is_odd\n",
      "✅ 3 is an odd number.\n"
     ]
    }
   ],
   "source": [
    "print(\"06_is_odd\")\n",
    "\n",
    "def is_odd(number):\n",
    "    return number % 2 != 0\n",
    "\n",
    "def main():\n",
    "    try:\n",
    "        num = int(input(\"🔢 Enter a number to check if it's odd: → \"))\n",
    "    except ValueError:\n",
    "        print(\"❌ Invalid input! Please enter a valid integer.\")\n",
    "        return\n",
    "\n",
    "    if is_odd(num):\n",
    "        print(f\"✅ {num} is an odd number.\")\n",
    "    else:\n",
    "        print(f\"❌ {num} is not an odd number (it's even).\")\n",
    "\n",
    "if __name__ == \"__main__\":\n",
    "    main()"
   ]
  },
  {
   "cell_type": "code",
   "execution_count": 9,
   "metadata": {},
   "outputs": [
    {
     "name": "stdout",
     "output_type": "stream",
     "text": [
      "07_print_divisor\n",
      "🔍 Divisors of 50 are:\n",
      "➤ 1\n",
      "➤ 2\n",
      "➤ 5\n",
      "➤ 10\n",
      "➤ 25\n",
      "➤ 50\n"
     ]
    }
   ],
   "source": [
    "print(\"07_print_divisor\")\n",
    "\n",
    "def print_divisors(n):\n",
    "    print(f\"🔍 Divisors of {n} are:\")\n",
    "    for i in range(1, n + 1):\n",
    "        if n % i == 0:\n",
    "            print(f\"➤ {i}\")\n",
    "\n",
    "def main():\n",
    "    try:\n",
    "        num = int(input(\"🔢 Enter a number to find its divisors: → \"))\n",
    "        if num <= 0:\n",
    "            print(\"⚠️ Please enter a positive integer greater than 0.\")\n",
    "            return\n",
    "    except ValueError:\n",
    "        print(\"❌ Invalid input! Please enter a valid number.\")\n",
    "        return\n",
    "\n",
    "    print_divisors(num)\n",
    "\n",
    "if __name__ == \"__main__\":\n",
    "    main()"
   ]
  },
  {
   "cell_type": "code",
   "execution_count": 10,
   "metadata": {},
   "outputs": [
    {
     "name": "stdout",
     "output_type": "stream",
     "text": [
      "08_print_multiple\n",
      "🧮 First 5 multiples of 4 are:\n",
      "➤ 4 × 1 = 4\n",
      "➤ 4 × 2 = 8\n",
      "➤ 4 × 3 = 12\n",
      "➤ 4 × 4 = 16\n",
      "➤ 4 × 5 = 20\n"
     ]
    }
   ],
   "source": [
    "print(\"08_print_multiple\")\n",
    "\n",
    "def print_multiples(n, count):\n",
    "    print(f\"🧮 First {count} multiples of {n} are:\")\n",
    "    for i in range(1, count + 1):\n",
    "        print(f\"➤ {n} × {i} = {n * i}\")\n",
    "\n",
    "def main():\n",
    "    try:\n",
    "        num = int(input(\"🔢 Enter a number to find its multiples: → \"))\n",
    "        count = int(input(\"🔁 How many multiples do you want to see? → \"))\n",
    "        if num <= 0 or count <= 0:\n",
    "            print(\"⚠️ Please enter positive numbers only.\")\n",
    "            return\n",
    "    except ValueError:\n",
    "        print(\"❌ Invalid input! Please enter integers only.\")\n",
    "        return\n",
    "\n",
    "    print_multiples(num, count)\n",
    "\n",
    "if __name__ == \"__main__\":\n",
    "    main()"
   ]
  },
  {
   "cell_type": "code",
   "execution_count": 12,
   "metadata": {},
   "outputs": [
    {
     "name": "stdout",
     "output_type": "stream",
     "text": [
      "09_sentence_generator\n",
      "\n",
      "📝 Generated Sentences:\n",
      "➤ The dog runs to home.\n",
      "➤ The robot plays with school.\n",
      "➤ The cat looks at a castle.\n",
      "➤ The dog builds the park.\n"
     ]
    }
   ],
   "source": [
    "import random\n",
    "\n",
    "print(\"09_sentence_generator\")\n",
    "nouns = [\"cat\", \"boy\", \"girl\", \"dog\", \"robot\"]\n",
    "verbs = [\"eats\", \"plays with\", \"runs to\", \"looks at\", \"builds\"]\n",
    "places = [\"the park\", \"school\", \"home\", \"the moon\", \"a castle\"]\n",
    "\n",
    "def generate_sentence():\n",
    "    noun = random.choice(nouns)\n",
    "    verb = random.choice(verbs)\n",
    "    place = random.choice(places)\n",
    "    return f\"The {noun} {verb} {place}.\"\n",
    "\n",
    "def main():\n",
    "    try:\n",
    "        count = int(input(\"📄 How many sentences do you want to generate? → \"))\n",
    "        if count <= 0:\n",
    "            print(\"⚠️ Please enter a positive number.\")\n",
    "            return\n",
    "    except ValueError:\n",
    "        print(\"❌ Invalid input! Please enter a valid number.\")\n",
    "        return\n",
    "\n",
    "    print(\"\\n📝 Generated Sentences:\")\n",
    "    for _ in range(count):\n",
    "        print(\"➤\", generate_sentence())\n",
    "\n",
    "if __name__ == \"__main__\":\n",
    "    main()"
   ]
  },
  {
   "cell_type": "code",
   "execution_count": 15,
   "metadata": {},
   "outputs": [
    {
     "name": "stdout",
     "output_type": "stream",
     "text": [
      "10_print_ones_digit\n",
      "🧮 The ones digit of 36 is: 6\n"
     ]
    }
   ],
   "source": [
    "print(\"10_print_ones_digit\")\n",
    "\n",
    "def get_ones_digit(number):\n",
    "    return abs(number) % 10  # Negative number handle karne ke liye abs()\n",
    "\n",
    "def main():\n",
    "    try:\n",
    "        num = int(input(\"🔢 Enter a number: → \"))\n",
    "    except ValueError:\n",
    "        print(\"❌ Please enter a valid integer.\")\n",
    "        return\n",
    "\n",
    "    ones_digit = get_ones_digit(num)\n",
    "    print(f\"🧮 The ones digit of {num} is: {ones_digit}\")\n",
    "\n",
    "if __name__ == \"__main__\":\n",
    "    main()"
   ]
  }
 ],
 "metadata": {
  "kernelspec": {
   "display_name": "Python 3",
   "language": "python",
   "name": "python3"
  },
  "language_info": {
   "codemirror_mode": {
    "name": "ipython",
    "version": 3
   },
   "file_extension": ".py",
   "mimetype": "text/x-python",
   "name": "python",
   "nbconvert_exporter": "python",
   "pygments_lexer": "ipython3",
   "version": "3.13.3"
  }
 },
 "nbformat": 4,
 "nbformat_minor": 2
}
