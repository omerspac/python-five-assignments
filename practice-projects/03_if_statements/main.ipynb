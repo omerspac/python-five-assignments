{
 "cells": [
  {
   "cell_type": "code",
   "execution_count": 1,
   "metadata": {},
   "outputs": [
    {
     "name": "stdout",
     "output_type": "stream",
     "text": [
      "01_print_events\n",
      "0\n",
      "2\n",
      "4\n",
      "6\n",
      "8\n",
      "10\n",
      "12\n",
      "14\n",
      "16\n",
      "18\n",
      "20\n",
      "22\n",
      "24\n",
      "26\n",
      "28\n",
      "30\n",
      "32\n",
      "34\n",
      "36\n",
      "38\n"
     ]
    }
   ],
   "source": [
    "print(\"01_print_events\")\n",
    "\n",
    "def even():\n",
    "  for i in range(20):\n",
    "    even = i * 2\n",
    "    print(even)\n",
    "\n",
    "\n",
    "if __name__ == \"__main__\":\n",
    "  even()\n",
    "     "
   ]
  },
  {
   "cell_type": "code",
   "execution_count": 3,
   "metadata": {},
   "outputs": [
    {
     "name": "stdout",
     "output_type": "stream",
     "text": [
      "02_international_voting_age\n",
      "Your age is 20. You are not eligible to vote in Stanlau!\n",
      "Your age is 20. You are not eligible to vote in Mayengua!\n",
      "Your age is 20. You are eligible to vote in Peturksbouipo!\n"
     ]
    }
   ],
   "source": [
    "print(\"02_international_voting_age\")\n",
    "\n",
    "PETURKSBOUIPO_AGE : int = 16\n",
    "STANLAU_AGE : int = 25\n",
    "MAYENGUA_AGE : int = 48\n",
    "age: int = int(input(\"How old are you? \"))\n",
    "\n",
    "def main():\n",
    "\n",
    "  if age >= PETURKSBOUIPO_AGE:\n",
    "    print(f\"Your age is {age}. You are eligible to vote in Peturksbouipo!\")\n",
    "  else:\n",
    "    print(f\"Your age is {age}. You are not eligible to vote in Peturksbouipo!\")\n",
    "\n",
    "\n",
    "if age >= STANLAU_AGE:\n",
    "      print(f\"Your age is {age}. You are eligible to vote in Stanlau!\")\n",
    "else:\n",
    "      print(f\"Your age is {age}. You are not eligible to vote in Stanlau!\")\n",
    "\n",
    "\n",
    "if age >= MAYENGUA_AGE:\n",
    "      print(f\"Your age is {age}. You are eligible to vote in Mayengua!\")\n",
    "else:\n",
    "      print(f\"Your age is {age}. You are not eligible to vote in Mayengua!\")\n",
    "\n",
    "if __name__ == \"__main__\":\n",
    "  main()"
   ]
  },
  {
   "cell_type": "code",
   "execution_count": 4,
   "metadata": {},
   "outputs": [
    {
     "name": "stdout",
     "output_type": "stream",
     "text": [
      "03_leap_year\n",
      "2050 is not a leap year.\n"
     ]
    }
   ],
   "source": [
    "print(\"03_leap_year\")\n",
    "\n",
    "def leap_year():\n",
    "  year: int = int(input(\"Enter as year.\"))\n",
    "\n",
    "  if year % 4 == 0:\n",
    "    if year % 100 == 0:\n",
    "      if year % 400 == 0:\n",
    "        print(f'{year} is a leap year.')\n",
    "      else:\n",
    "        print(f\"{year} is not a leap year.\")\n",
    "    else:\n",
    "      print(f'{year} is not a leap year.')\n",
    "  else:\n",
    "    print(f\"{year} is not a leap year.\")\n",
    "\n",
    "if __name__ == \"__main__\":\n",
    "  leap_year()"
   ]
  },
  {
   "cell_type": "code",
   "execution_count": 6,
   "metadata": {},
   "outputs": [
    {
     "name": "stdout",
     "output_type": "stream",
     "text": [
      "04_tall_enough_to_ride\n",
      "You're tall enough to ride!\n"
     ]
    }
   ],
   "source": [
    "print(\"04_tall_enough_to_ride\")\n",
    "\n",
    "MINIMUM_HEIGHT : int = 50 # arbitrary units\n",
    "\n",
    "def main():\n",
    "    height = float(input(\"How tall are you? \"))\n",
    "    if height >= MINIMUM_HEIGHT:\n",
    "        print(\"You're tall enough to ride!\")\n",
    "        \n",
    "    else:\n",
    "        print(\"You're not tall enough to ride, but maybe next year!\")\n",
    "\n",
    "if __name__ == '__main__':\n",
    "    main()"
   ]
  },
  {
   "cell_type": "code",
   "execution_count": 9,
   "metadata": {},
   "outputs": [
    {
     "name": "stdout",
     "output_type": "stream",
     "text": [
      "05_random_numbers\n",
      "59\n",
      "13\n",
      "48\n",
      "21\n",
      "30\n",
      "98\n",
      "34\n",
      "59\n",
      "74\n",
      "76\n"
     ]
    }
   ],
   "source": [
    "import random\n",
    "print(\"05_random_numbers\")\n",
    "\n",
    "def main():\n",
    "  for i in range(10):\n",
    "    num: list[int] = random.randint(1,100)\n",
    "    print(num)\n",
    "\n",
    "if __name__ == \"__main__\":\n",
    "  main()"
   ]
  }
 ],
 "metadata": {
  "kernelspec": {
   "display_name": "Python 3",
   "language": "python",
   "name": "python3"
  },
  "language_info": {
   "codemirror_mode": {
    "name": "ipython",
    "version": 3
   },
   "file_extension": ".py",
   "mimetype": "text/x-python",
   "name": "python",
   "nbconvert_exporter": "python",
   "pygments_lexer": "ipython3",
   "version": "3.13.3"
  }
 },
 "nbformat": 4,
 "nbformat_minor": 2
}
