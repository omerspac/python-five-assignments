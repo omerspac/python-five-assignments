{
 "cells": [
  {
   "cell_type": "code",
   "execution_count": 1,
   "metadata": {},
   "outputs": [
    {
     "name": "stdout",
     "output_type": "stream",
     "text": [
      "00_choosing_returns\n",
      "Choose one of the following options: A, B, C\n",
      "You chose option A\n"
     ]
    }
   ],
   "source": [
    "print(\"00_choosing_returns\")\n",
    "\n",
    "def choose_return(option):\n",
    "    if option == \"A\":\n",
    "        return \"You chose option A\"\n",
    "    elif option == \"B\":\n",
    "        return \"You chose option B\"\n",
    "    elif option == \"C\":\n",
    "        return \"You chose option C\"\n",
    "    else:\n",
    "        return \"Invalid option. Please choose A, B, or C.\"\n",
    "\n",
    "def main():\n",
    "    print(\"Choose one of the following options: A, B, C\")\n",
    "    option = input(\"Enter your choice: → \")\n",
    "\n",
    "    result = choose_return(option)\n",
    "    print(result)\n",
    "\n",
    "if __name__ == \"__main__\":\n",
    "    main()"
   ]
  },
  {
   "cell_type": "code",
   "execution_count": 2,
   "metadata": {},
   "outputs": [
    {
     "name": "stdout",
     "output_type": "stream",
     "text": [
      "01_greetings\n",
      "Hello, Muhammad Omer! Welcome to the program.\n"
     ]
    }
   ],
   "source": [
    "print(\"01_greetings\")\n",
    "\n",
    "def greet(name):\n",
    "    return f\"Hello, {name}! Welcome to the program.\"\n",
    "\n",
    "def main():\n",
    "    name = input(\"Please enter your name: → \")\n",
    "    greeting_message = greet(name)\n",
    "    print(greeting_message)\n",
    "\n",
    "if __name__ == \"__main__\":\n",
    "    main()\n"
   ]
  },
  {
   "cell_type": "code",
   "execution_count": 4,
   "metadata": {},
   "outputs": [
    {
     "name": "stdout",
     "output_type": "stream",
     "text": [
      "02_in_range\n",
      "✅ 46 is within the range of 2 and 100.\n"
     ]
    }
   ],
   "source": [
    "print(\"02_in_range\")\n",
    "\n",
    "def is_in_range(number, start, end):\n",
    "    if start <= number <= end:\n",
    "        return True\n",
    "    else:\n",
    "        return False\n",
    "\n",
    "def main():\n",
    "    try:\n",
    "        num = int(input(\"🔢 Enter a number: → \"))\n",
    "        start = int(input(\"Enter the start of the range: → \"))\n",
    "        end = int(input(\"Enter the end of the range: → \"))\n",
    "    except ValueError:\n",
    "        print(\"❌ Please enter valid integers.\")\n",
    "        return\n",
    "\n",
    "    if is_in_range(num, start, end):\n",
    "        print(f\"✅ {num} is within the range of {start} and {end}.\")\n",
    "    else:\n",
    "        print(f\"❌ {num} is not within the range of {start} and {end}.\")\n",
    "\n",
    "if __name__ == \"__main__\":\n",
    "    main()"
   ]
  },
  {
   "cell_type": "code",
   "execution_count": 5,
   "metadata": {},
   "outputs": [
    {
     "name": "stdout",
     "output_type": "stream",
     "text": [
      "03_in_stock\n",
      "✅ Apple is in stock!\n"
     ]
    }
   ],
   "source": [
    "print(\"03_in_stock\")\n",
    "\n",
    "def is_in_stock(product, stock):\n",
    "    if product in stock and stock[product] > 0:\n",
    "        return True\n",
    "    else:\n",
    "        return False\n",
    "\n",
    "def main():\n",
    "    stock = {\n",
    "        \"apple\": 10,\n",
    "        \"banana\": 0,\n",
    "        \"orange\": 5,\n",
    "        \"grapes\": 2\n",
    "    }\n",
    "\n",
    "    product = input(\"Enter the product name to check its stock: → \").lower()\n",
    "\n",
    "    if is_in_stock(product, stock):\n",
    "        print(f\"✅ {product.capitalize()} is in stock!\")\n",
    "    else:\n",
    "        print(f\"❌ {product.capitalize()} is not in stock.\")\n",
    "\n",
    "if __name__ == \"__main__\":\n",
    "    main()"
   ]
  },
  {
   "cell_type": "code",
   "execution_count": 6,
   "metadata": {},
   "outputs": [
    {
     "name": "stdout",
     "output_type": "stream",
     "text": [
      "04_multiple_returns\n",
      "✅ The square of 4.0 is: 16.0\n",
      "✅ The cube of 4.0 is: 64.0\n",
      "✅ The square root of 4.0 is: 2.00\n"
     ]
    }
   ],
   "source": [
    "print(\"04_multiple_returns\")\n",
    "\n",
    "import math\n",
    "\n",
    "def analyze_number(number):\n",
    "    square = number ** 2\n",
    "    cube = number ** 3\n",
    "    square_root = math.sqrt(number)\n",
    "\n",
    "    return square, cube, square_root\n",
    "\n",
    "def main():\n",
    "    try:\n",
    "        num = float(input(\"🔢 Enter a number: → \"))\n",
    "    except ValueError:\n",
    "        print(\"❌ Please enter a valid number.\")\n",
    "        return\n",
    "\n",
    "    square, cube, square_root = analyze_number(num)\n",
    "\n",
    "    print(f\"✅ The square of {num} is: {square}\")\n",
    "    print(f\"✅ The cube of {num} is: {cube}\")\n",
    "    print(f\"✅ The square root of {num} is: {square_root:.2f}\")\n",
    "\n",
    "if __name__ == \"__main__\":\n",
    "    main()"
   ]
  },
  {
   "cell_type": "code",
   "execution_count": 7,
   "metadata": {},
   "outputs": [
    {
     "name": "stdout",
     "output_type": "stream",
     "text": [
      "05_subtract_7\n",
      "✅ After subtracting 7, the result is: 39.0\n"
     ]
    }
   ],
   "source": [
    "print(\"05_subtract_7\")\n",
    "\n",
    "def subtract_seven(number):\n",
    "    return number - 7\n",
    "\n",
    "def main():\n",
    "    try:\n",
    "        num = float(input(\"🔢 Enter a number: → \"))\n",
    "    except ValueError:\n",
    "        print(\"❌ Please enter a valid number.\")\n",
    "        return\n",
    "\n",
    "    result = subtract_seven(num)\n",
    "    print(f\"✅ After subtracting 7, the result is: {result}\")\n",
    "\n",
    "if __name__ == \"__main__\":\n",
    "    main()\n"
   ]
  }
 ],
 "metadata": {
  "kernelspec": {
   "display_name": "Python 3",
   "language": "python",
   "name": "python3"
  },
  "language_info": {
   "codemirror_mode": {
    "name": "ipython",
    "version": 3
   },
   "file_extension": ".py",
   "mimetype": "text/x-python",
   "name": "python",
   "nbconvert_exporter": "python",
   "pygments_lexer": "ipython3",
   "version": "3.13.3"
  }
 },
 "nbformat": 4,
 "nbformat_minor": 2
}
