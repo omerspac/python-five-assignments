{
 "cells": [
  {
   "cell_type": "code",
   "execution_count": 1,
   "metadata": {},
   "outputs": [
    {
     "name": "stdout",
     "output_type": "stream",
     "text": [
      "01_dicesimulator\n",
      "dice 1 in main() start as: 10\n",
      "Total of two dices: 10\n",
      "Total of two dices: 8\n",
      "Total of two dices: 8\n",
      "dice 1 in main() is: 10\n"
     ]
    }
   ],
   "source": [
    "import random\n",
    "print(\"01_dicesimulator\")\n",
    "\n",
    "def roll_dice():\n",
    "  \"\"\"Simulates rolling two dice and prints their total\"\"\"\n",
    "  dice1:int = random.randint(1, 6)\n",
    "  dice2:int = random.randint(1, 6)\n",
    "  total:int = dice1 + dice2\n",
    "  print(f'Total of two dices: {total}')\n",
    "\n",
    "def main():\n",
    "  dice1:int = 10\n",
    "  print(\"dice 1 in main() start as: \" + str(dice1))\n",
    "  roll_dice()\n",
    "  roll_dice()\n",
    "  roll_dice()\n",
    "  print(\"dice 1 in main() is: \" + str(dice1))\n",
    "\n",
    "if __name__ == \"__main__\":\n",
    "  main()"
   ]
  },
  {
   "cell_type": "code",
   "execution_count": 2,
   "metadata": {},
   "outputs": [
    {
     "name": "stdout",
     "output_type": "stream",
     "text": [
      "02_e=mc2\n",
      "e = m*c^2\n",
      "Mass = 4.0 kg\n",
      "C = 299792458 m/s\n",
      "e = 3.5950207149472704e+17 joules\n"
     ]
    }
   ],
   "source": [
    "print(\"02_e=mc2\")\n",
    "\n",
    "def energy():\n",
    "  c:float = 299792458\n",
    "  m:float = float(input(\"Enter Kilos of mass: \"))\n",
    "  print(\"e = m*c^2\")\n",
    "  print(\"Mass = \" + str(m) + \" kg\")\n",
    "  print(\"C = \"+ str(c) + \" m/s\")\n",
    "  print(\"e = \" + str(m * c ** 2) + \" joules\")\n",
    "\n",
    "if __name__ == \"__main__\":\n",
    "  energy()"
   ]
  },
  {
   "cell_type": "code",
   "execution_count": 3,
   "metadata": {},
   "outputs": [
    {
     "name": "stdout",
     "output_type": "stream",
     "text": [
      "03_feet_to_inches\n",
      "There are 684 inches in 57 feet.\n"
     ]
    }
   ],
   "source": [
    "print(\"03_feet_to_inches\")\n",
    "\n",
    "INCHES_IN_FOOT: int = 12\n",
    "\n",
    "def feet_to_inches():\n",
    "  feet:int = int(input(\"Enter number of feet: \"))\n",
    "  print(f'There are {INCHES_IN_FOOT * feet} inches in {feet} feet.')\n",
    "\n",
    "if __name__== \"__main__\":\n",
    "  feet_to_inches()"
   ]
  },
  {
   "cell_type": "code",
   "execution_count": 5,
   "metadata": {},
   "outputs": [
    {
     "name": "stdout",
     "output_type": "stream",
     "text": [
      "04_pythagorean_theorem\n",
      "The length of BC (the hypotenuse) is : 8.48528137423857\n"
     ]
    }
   ],
   "source": [
    "import math\n",
    "print(\"04_pythagorean_theorem\")\n",
    "\n",
    "def triangle():\n",
    "  ab:float = float(input(\"Enter the length of the side AB. \"))\n",
    "  ac:float = float(input(\"Enter the length of the side AC. \"))\n",
    "  bc:float = math.sqrt(ab**2 + ac**2)\n",
    "  print(f'The length of BC (the hypotenuse) is : {bc}')\n",
    "\n",
    "if __name__==\"__main__\":\n",
    "  triangle()"
   ]
  },
  {
   "cell_type": "code",
   "execution_count": 6,
   "metadata": {},
   "outputs": [
    {
     "name": "stdout",
     "output_type": "stream",
     "text": [
      "05_remainder_division\n",
      "The result of following division is 2 with a remainder of 1\n"
     ]
    }
   ],
   "source": [
    "print(\"05_remainder_division\")\n",
    "\n",
    "def remainder():\n",
    "   dividend: int = int(input(\"Please enter an integer to be divided: \"))\n",
    "   divisor: int = int(input(\"Please enter an integer to divide by: \"))\n",
    "\n",
    "   quotient: int = dividend // divisor\n",
    "   remainder: int = dividend % divisor\n",
    "\n",
    "   print(f'The result of following division is {quotient} with a remainder of {remainder}')\n",
    "\n",
    "if __name__ == \"__main__\":\n",
    "  remainder()"
   ]
  },
  {
   "cell_type": "code",
   "execution_count": 10,
   "metadata": {},
   "outputs": [
    {
     "name": "stdout",
     "output_type": "stream",
     "text": [
      "06_rolldice.\n",
      "First Dice: 5\n",
      "Second Dice:6\n",
      "Total of two Dices : 11\n"
     ]
    }
   ],
   "source": [
    "import random\n",
    "print(\"06_rolldice.\")\n",
    "\n",
    "def dice():\n",
    "  dice1: int= random.randint(1,6)\n",
    "  dice2: int  = random.randint(1,6)\n",
    "\n",
    "  total: int = int(dice1 + dice2)\n",
    "  print(\"First Dice: \" + str(dice1))\n",
    "  print(\"Second Dice:\" + str(dice2))\n",
    "\n",
    "  print(f'Total of two Dices : {total}' )\n",
    "\n",
    "if __name__==\"__main__\":\n",
    "  dice()"
   ]
  },
  {
   "cell_type": "code",
   "execution_count": 11,
   "metadata": {},
   "outputs": [
    {
     "name": "stdout",
     "output_type": "stream",
     "text": [
      "06_seconds_in_year\n",
      "There are 31536000 seconds in a year!\n"
     ]
    }
   ],
   "source": [
    "print(\"06_seconds_in_year\")\n",
    "\n",
    "days_in_year: int = 365\n",
    "hours_per_day: int = 24\n",
    "minutes_per_hour: int = 60\n",
    "seconds_per_minute: int = 60\n",
    "\n",
    "def seconds():\n",
    "  print(f'There are {days_in_year * hours_per_day * minutes_per_hour * seconds_per_minute} seconds in a year!')\n",
    "\n",
    "if __name__==\"__main__\":\n",
    "  seconds()"
   ]
  },
  {
   "cell_type": "code",
   "execution_count": 12,
   "metadata": {},
   "outputs": [
    {
     "name": "stdout",
     "output_type": "stream",
     "text": [
      "7_tiny_mad_lib\n",
      "Do you Climb your Beautiful Lion?\n"
     ]
    }
   ],
   "source": [
    "print(\"7_tiny_mad_lib\")\n",
    "\n",
    "def mad_lib():\n",
    "  noun: str = str(input(\"Enter a noun: \"))\n",
    "  adjective: str = str(input(\"Enter an adjective: \"))\n",
    "  verb: str = str(input(\"Enter a verb: \"))\n",
    "\n",
    "  print(f\"Do you {verb} your {adjective} {noun}?\")\n",
    "\n",
    "if __name__==\"__main__\":\n",
    "  mad_lib()"
   ]
  }
 ],
 "metadata": {
  "kernelspec": {
   "display_name": "Python 3",
   "language": "python",
   "name": "python3"
  },
  "language_info": {
   "codemirror_mode": {
    "name": "ipython",
    "version": 3
   },
   "file_extension": ".py",
   "mimetype": "text/x-python",
   "name": "python",
   "nbconvert_exporter": "python",
   "pygments_lexer": "ipython3",
   "version": "3.13.3"
  }
 },
 "nbformat": 4,
 "nbformat_minor": 2
}
