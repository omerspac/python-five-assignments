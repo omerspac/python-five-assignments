{
 "cells": [
  {
   "cell_type": "code",
   "execution_count": 2,
   "metadata": {},
   "outputs": [
    {
     "name": "stdout",
     "output_type": "stream",
     "text": [
      "00_guess_my_number.\n",
      "I am thinking of a number between 1 and 100....\n",
      "Your guess is too high.\n",
      "Your guess is too low.\n",
      "Your guess is too high.\n",
      "Your guess is too high.\n",
      "Congratulations! The number was 34\n"
     ]
    }
   ],
   "source": [
    "import random\n",
    "\n",
    "print(\"00_guess_my_number.\")\n",
    "\n",
    "def main():\n",
    "  secret_number = random.randint(1,100)\n",
    "  print(\"I am thinking of a number between 1 and 100....\")\n",
    "\n",
    "  guess = int(input(\"Enter a guess: \"))\n",
    "\n",
    "  while guess != secret_number:\n",
    "    if guess < secret_number:\n",
    "      print(\"Your guess is too low.\")\n",
    "    else:\n",
    "      print(\"Your guess is too high.\")\n",
    "    guess = int(input(\"Enter a guess: \"))\n",
    "\n",
    "  print(f\"Congratulations! The number was {secret_number}\")\n",
    "\n",
    "\n",
    "if __name__ == \"__main__\":\n",
    "  main()"
   ]
  },
  {
   "cell_type": "code",
   "execution_count": 3,
   "metadata": {},
   "outputs": [
    {
     "name": "stdout",
     "output_type": "stream",
     "text": [
      "01_fibonacci\n",
      "0 1 1 2 3 5 8 13 21 34 55 89 144 233 377 610 987 1597 2584 4181 6765 "
     ]
    }
   ],
   "source": [
    "print(\"01_fibonacci\")\n",
    "\n",
    "max_value = 10000\n",
    "\n",
    "def main():\n",
    "  a,b = 0,1\n",
    "  print(a,b, end = \" \")\n",
    "\n",
    "  while True:\n",
    "    c = a+b\n",
    "    if c >= max_value:\n",
    "      break\n",
    "    print(c, end=\" \")\n",
    "    a,b = b,c\n",
    "\n",
    "if __name__ == \"__main__\":\n",
    "  main()"
   ]
  },
  {
   "cell_type": "code",
   "execution_count": 4,
   "metadata": {},
   "outputs": [
    {
     "name": "stdout",
     "output_type": "stream",
     "text": [
      "02_print_events\n",
      "0\n",
      "2\n",
      "4\n",
      "6\n",
      "8\n",
      "10\n",
      "12\n",
      "14\n",
      "16\n",
      "18\n",
      "20\n",
      "22\n",
      "24\n",
      "26\n",
      "28\n",
      "30\n",
      "32\n",
      "34\n",
      "36\n",
      "38\n"
     ]
    }
   ],
   "source": [
    "print(\"02_print_events\")\n",
    "\n",
    "def main():\n",
    "  for i in range(20):\n",
    "    print(i*2)\n",
    "\n",
    "if __name__ == \"__main__\":\n",
    "  main()"
   ]
  },
  {
   "cell_type": "code",
   "execution_count": 5,
   "metadata": {},
   "outputs": [
    {
     "name": "stdout",
     "output_type": "stream",
     "text": [
      "03_wholesome_machine\n",
      "Welcome to the Wholesome Machine\n",
      "That's right! \n"
     ]
    }
   ],
   "source": [
    "print(\"03_wholesome_machine\")\n",
    "\n",
    "correct_affirmation = \"I am capable of doing anything. I put my mind too.\"\n",
    "\n",
    "def main():\n",
    "  print(\"Welcome to the Wholesome Machine\")\n",
    "  while True:\n",
    "    user_input = input(\"Please type the following affirmation:\" + correct_affirmation)\n",
    "    if user_input == correct_affirmation:\n",
    "      print(\"That\\'s right! \")\n",
    "      break\n",
    "    else:\n",
    "      print(\"Hmmm That was not the affirmation. Please Try Again!\")\n",
    "\n",
    "if __name__ == \"__main__\":\n",
    "  main()"
   ]
  },
  {
   "cell_type": "code",
   "execution_count": 6,
   "metadata": {},
   "outputs": [
    {
     "name": "stdout",
     "output_type": "stream",
     "text": [
      "04_liftoff\n",
      "10 9 8 7 6 5 4 3 2 1 liftoff🚀\n"
     ]
    }
   ],
   "source": [
    "print(\"04_liftoff\")\n",
    "\n",
    "def main():\n",
    "  for i in range(10,0,-1):\n",
    "    print(i, end = \" \")\n",
    "  print(\"liftoff🚀\")\n",
    "\n",
    "if __name__ == \"__main__\":\n",
    "  main()"
   ]
  },
  {
   "cell_type": "code",
   "execution_count": 8,
   "metadata": {},
   "outputs": [
    {
     "name": "stdout",
     "output_type": "stream",
     "text": [
      "05_double_it\n",
      "20\n",
      "40\n",
      "80\n",
      "160\n"
     ]
    }
   ],
   "source": [
    "print(\"05_double_it\")\n",
    "\n",
    "def main():\n",
    "  user_value = int(input(\"Enter a number: \"))\n",
    "  while user_value < 100:\n",
    "    user_value = user_value * 2\n",
    "    print(user_value)\n",
    "\n",
    "if __name__ == \"__main__\":\n",
    "  main()"
   ]
  }
 ],
 "metadata": {
  "kernelspec": {
   "display_name": "Python 3",
   "language": "python",
   "name": "python3"
  },
  "language_info": {
   "codemirror_mode": {
    "name": "ipython",
    "version": 3
   },
   "file_extension": ".py",
   "mimetype": "text/x-python",
   "name": "python",
   "nbconvert_exporter": "python",
   "pygments_lexer": "ipython3",
   "version": "3.13.3"
  }
 },
 "nbformat": 4,
 "nbformat_minor": 2
}
